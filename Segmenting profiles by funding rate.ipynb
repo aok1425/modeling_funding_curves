{
 "metadata": {
  "name": "",
  "signature": "sha256:48dd4e7575cfe27cc7ee459a02c6c805c682db679194c939dd692308b9decb73"
 },
 "nbformat": 3,
 "nbformat_minor": 0,
 "worksheets": [
  {
   "cells": [
    {
     "cell_type": "markdown",
     "metadata": {},
     "source": [
      "#Can we predict the funding pattern of a crowdfunding profile?\n",
      "\n",
      "We have data from a Kickstarter-like company. Profiles list different amounts at which to be funded. Nearly all the profiles end up getting funded. All the profiles in this dataset have been funded. Taken from a subset of the data, it looks like this:\n",
      "\n",
      "![subset of funding patterns](images/subset of funding patterns.png)\n",
      "\n",
      "If we can find out various attributes that predict a funding pattern, we can optimize for these various attributes so that profiles can be funded more quickly!"
     ]
    },
    {
     "cell_type": "markdown",
     "metadata": {},
     "source": [
      "So, we want to see if there are different funding patterns amongst the different rates at which profiles get funded. If there are, we can try to predict which rate a certain profile fits into, and what factors lead to certain rates."
     ]
    },
    {
     "cell_type": "code",
     "collapsed": false,
     "input": [
      "%matplotlib inline\n",
      "import psycopg2\n",
      "import pandas as pd\n",
      "import numpy as np\n",
      "import matplotlib.pyplot as plt\n",
      "import getpass\n",
      "from numpy import log1p\n",
      "import random\n",
      "\n",
      "pd.options.display.mpl_style = 'default'\n",
      "\n",
      "conn = psycopg2.connect(dbname=\"funding_data\", host=\"localhost\", user=\"aok1425\", password=getpass.getpass())\n",
      "cur = conn.cursor()"
     ],
     "language": "python",
     "metadata": {},
     "outputs": [],
     "prompt_number": 1
    },
    {
     "cell_type": "markdown",
     "metadata": {},
     "source": [
      "##Exploratory data analysis"
     ]
    },
    {
     "cell_type": "code",
     "collapsed": false,
     "input": [
      "def pull_SQL_into_Pandas(query):\n",
      "\t\"\"\"Takes a query, and outputs a DataFrame from it.\"\"\"\n",
      "\tcur.execute(query)\n",
      "\tfig = pd.DataFrame(cur.fetchall(), columns = [desc[0] for desc in cur.description])\n",
      "\n",
      "\treturn fig"
     ],
     "language": "python",
     "metadata": {},
     "outputs": [],
     "prompt_number": 2
    },
    {
     "cell_type": "code",
     "collapsed": false,
     "input": [
      "# Distribution of hours to fund each profile\n",
      "query = \"\"\"\n",
      "    select patient, hrs_to_completion, hrs_to_completion - first_donation as \"completion_after_first_donation\"\n",
      "    from (select p.id as patient, max(c.created_at - p.created_at) as \"hrs_to_completion\", min(c.created_at - p.created_at) as \"first_donation\", count(c.created_at) as \"num\"\n",
      "    from contributions as c join profiles as p\n",
      "    on (c.contributable_id = p.id)\n",
      "    group by patient) table1;\"\"\"\n",
      "\n",
      "fig = pull_SQL_into_Pandas(query)"
     ],
     "language": "python",
     "metadata": {},
     "outputs": [],
     "prompt_number": 3
    },
    {
     "cell_type": "markdown",
     "metadata": {},
     "source": [
      "The histogram of how quickly profiles are funded, below, is heavily left-skewed. 25% of the profiles were funded in 4.6 hours or less.\n",
      "\n",
      "Thus, I only want to find out about the other 75%. [show that the 25% has same characteristics as the 75%?]"
     ]
    },
    {
     "cell_type": "code",
     "collapsed": false,
     "input": [
      "ax = fig.hrs_to_completion.apply(lambda x: x / np.timedelta64(1,'h')).hist(bins=50, range=[0,1500])\n",
      "ax.set_xlabel('Hours until profile is funded')\n",
      "ax.set_ylabel('Frequency')"
     ],
     "language": "python",
     "metadata": {},
     "outputs": [
      {
       "metadata": {},
       "output_type": "pyout",
       "prompt_number": 5,
       "text": [
        "<matplotlib.text.Text at 0x10652e0d0>"
       ]
      },
      {
       "metadata": {},
       "output_type": "display_data",
       "png": "[encoded data removed]",
       "text": [
        "<matplotlib.figure.Figure at 0x10264be50>"
       ]
      }
     ],
     "prompt_number": 5
    },
    {
     "cell_type": "code",
     "collapsed": false,
     "input": [
      "fig.completion_after_first_donation.apply(lambda x: x / np.timedelta64(1,'h')).describe()"
     ],
     "language": "python",
     "metadata": {},
     "outputs": [
      {
       "metadata": {},
       "output_type": "pyout",
       "prompt_number": 4,
       "text": [
        "count     1200.000000\n",
        "mean       308.440848\n",
        "std       1132.875930\n",
        "min          0.000000\n",
        "25%          4.611202\n",
        "50%         37.845972\n",
        "75%        110.662787\n",
        "max      13996.087957\n",
        "dtype: float64"
       ]
      }
     ],
     "prompt_number": 4
    },
    {
     "cell_type": "markdown",
     "metadata": {},
     "source": [
      "##Pulling the data"
     ]
    },
    {
     "cell_type": "markdown",
     "metadata": {},
     "source": [
      "This is the function to pull the data for a certain profile.\n",
      "\n",
      "Note that if the data is abnormal, the function returns a blank table. Data can be abnormal in a few ways:\n",
      "- adding up all the donations results in a figure different from the total amount, by at least 10%\n",
      "- some donations were done before the profile was posted online\n",
      "- I'm ignoring those profiles that were funded really quickly. Later on, I will try to find differences between the quickly-funded profiles and the others. Anecdotally, the main factor seems to be funding amount. "
     ]
    },
    {
     "cell_type": "code",
     "collapsed": false,
     "input": [
      "ax = fig.completion_after_first_donation.apply(lambda x: x / np.timedelta64(1,'h')).hist(bins=50, range=[0,1500])\n",
      "ax.set_xlabel('Hours after first donation until profile is funded')\n",
      "ax.set_ylabel('Frequency')"
     ],
     "language": "python",
     "metadata": {},
     "outputs": [
      {
       "metadata": {},
       "output_type": "pyout",
       "prompt_number": 25,
       "text": [
        "<matplotlib.text.Text at 0x10917a810>"
       ]
      },
      {
       "metadata": {},
       "output_type": "display_data",
       "png": "[encoded data removed]",
       "text": [
        "<matplotlib.figure.Figure at 0x1085c7750>"
       ]
      }
     ],
     "prompt_number": 25
    },
    {
     "cell_type": "code",
     "collapsed": false,
     "input": [
      "def pull_funding_for_pt(patient_id):    \n",
      "\tquery = \"\"\"\n",
      "\t\tselect donor_id, patient, cum_amt::int, hours_after_posted, num\n",
      "\t\tfrom (\n",
      "\t\tselect *, bool_and(hours_after_posted >= 0) over (partition by patient) as normal_hours_after_posted, max(cum_amt) over (partition by patient) as max_amt, count(*) over (partition by patient) as \"num\"\n",
      "\t\tfrom (\n",
      "\t\tselect donor_id, patient, sum(donation_amt) over (partition by patient order by time_of_donation) as cum_amt, total_amt, extract(epoch from (time_of_donation - min(time_of_donation) over (partition by patient)))/3600 as hours_after_posted, extract(epoch from hrs_to_completion)/3600 as hrs_to_completion\n",
      "\t\tfrom (\n",
      "\t\tselect donor_id, p.id as patient, c.donation_amount * .01 as \"donation_amt\", p.target_amount * .01 as total_amt, c.created_at - p.created_at as \"time_of_donation\", max(c.created_at - p.created_at) over (partition by p.id) as \"hrs_to_completion\"\n",
      "\t\tfrom contributions as c join profiles as p\n",
      "\t\ton (c.contributable_id = p.id)\n",
      "\t\twhere contributable_id = {}) table1) table2) table3\n",
      "\t\twhere @(max_amt-total_amt)/total_amt < 0.1 and normal_hours_after_posted = true\n",
      "\t\torder by patient, cum_amt;\"\"\".format(patient_id)\n",
      "    \n",
      "\treturn pull_SQL_into_Pandas(query)"
     ],
     "language": "python",
     "metadata": {},
     "outputs": [],
     "prompt_number": 6
    },
    {
     "cell_type": "markdown",
     "metadata": {},
     "source": [
      "##Applying the models for each profile\n",
      "For each table, I will apply 3 different models to the data: linear, logarithmic, and exponential. Then, I will find the error for each model for each profile."
     ]
    },
    {
     "cell_type": "code",
     "collapsed": false,
     "input": [
      "def predict_exp(x, y):\n",
      "\t\"\"\"Input a DataFrame and get a Series of predicted values.\"\"\"\n",
      "\tydiff = y.tail(1).values[0] - y.head(1).values[0]\n",
      "\txdiff = x.tail(1).values[0] - x.head(1).values[0]\n",
      "\n",
      "\tz = ydiff**(1/xdiff)\n",
      "\treturn z**x + y.head(1).values[0]\n",
      "\n",
      "def predict_lin(x, y):\n",
      "\tm = (y.tail(1).values[0] - y.head(1).values[0])/(x.tail(1).values[0] - x.head(1).values[0])\n",
      "\n",
      "\treturn m*x + y.head(1).values[0]\n",
      "\n",
      "def predict_log_e(x, y):\n",
      "\tydiff = y.tail(1).values[0] - y.head(1).values[0]\n",
      "\txdiff = x.tail(1).values[0] - x.head(1).values[0]\n",
      "\tb = ydiff / (log1p(xdiff))\n",
      "\n",
      "\treturn b*log1p(x) + y.head(1).values[0]\n",
      "\n",
      "def plot_predictor(patient_id):\n",
      "\t\"\"\"Makes graph showing the 3 models and the ground truth for a patient.\"\"\"\n",
      "\tfig = pull_funding_for_pt(patient_id)\n",
      "\tfig['lin_pred'] = predict_lin(fig.hours_after_posted, fig.cum_amt)\n",
      "\tfig['exp_pred'] = predict_exp(fig.hours_after_posted, fig.cum_amt)\n",
      "\tfig['log_pred'] = predict_log_e(fig.hours_after_posted, fig.cum_amt)\n",
      "\n",
      "\tax = fig.plot(x='hours_after_posted', y='cum_amt')\n",
      "\tax = fig.plot(x='hours_after_posted', y='lin_pred')\n",
      "\tax = fig.plot(x='hours_after_posted', y='exp_pred')\n",
      "\tax = fig.plot(x='hours_after_posted', y='log_pred')\n",
      "\tax.set_ylabel('Funding amt, in US dollars')\n",
      "\tax.set_xlabel('Hours after first donation')"
     ],
     "language": "python",
     "metadata": {},
     "outputs": [],
     "prompt_number": 33
    },
    {
     "cell_type": "code",
     "collapsed": false,
     "input": [
      "def pull_error_table():\n",
      "\tquery = \"\"\"\n",
      "        select patient, count\n",
      "        from(\n",
      "        select p.id as patient, count(*) as count, @((sum(c.donation_amount)-p.target_amount::float)/p.target_amount) as diff_pct, p.target_amount * .01 as total_amt, extract(epoch from min(c.created_at - p.created_at))/3600 as \"min_time_of_donation\", extract(epoch from max(c.created_at - p.created_at))/3600 as \"hrs_to_completion\"\n",
      "        from contributions as c join profiles as p\n",
      "        on (c.contributable_id = p.id)\n",
      "        group by p.id\n",
      "        order by diff_pct desc) table1\n",
      "        where diff_pct < 0.1 and min_time_of_donation > 0 and hrs_to_completion > 37.84 and count > 3;\"\"\"\n",
      "\n",
      "\tcur.execute(query)\n",
      "\tfig = pd.DataFrame(cur.fetchall(), columns = [desc[0] for desc in cur.description])\n",
      "    \n",
      "\treturn fig\n",
      "\n",
      "from sklearn.metrics import explained_variance_score\n",
      "\n",
      "def calculate_model_errors(patient_id):\n",
      "    fig = pull_funding_for_pt(patient_id)\n",
      "    x = fig.hours_after_posted\n",
      "    y = fig.cum_amt\n",
      "    \n",
      "    exp = predict_exp(x,y)\n",
      "    lin = predict_lin(x,y)\n",
      "    log = predict_log_e(x,y)\n",
      "    \n",
      "    return explained_variance_score(y, exp), explained_variance_score(y, log), explained_variance_score(y, lin)\n",
      "\n",
      "df = pull_error_table()\n",
      "df['exp_error'], df['log_error'], df['lin_error'] = zip(*df.patient.map(calculate_model_errors))"
     ],
     "language": "python",
     "metadata": {},
     "outputs": [],
     "prompt_number": 8
    },
    {
     "cell_type": "code",
     "collapsed": false,
     "input": [
      "df = pd.read_pickle('./saved_tables/error_table.pkl')"
     ],
     "language": "python",
     "metadata": {},
     "outputs": [],
     "prompt_number": 15
    },
    {
     "cell_type": "markdown",
     "metadata": {},
     "source": [
      "##Evaluating the models for each profile"
     ]
    },
    {
     "cell_type": "code",
     "collapsed": false,
     "input": [
      "import kmeans\n",
      "km = kmeans.KMeans(max_iters=7, tries=15)"
     ],
     "language": "python",
     "metadata": {},
     "outputs": [],
     "prompt_number": 9
    },
    {
     "cell_type": "code",
     "collapsed": false,
     "input": [
      "from sklearn import preprocessing\n",
      "df_scaled = preprocessing.scale(df.ix[:,'exp_error':'lin_error'])\n",
      "\n",
      "km.fit(df_scaled, clusters=3) # much better!"
     ],
     "language": "python",
     "metadata": {},
     "outputs": [
      {
       "output_type": "stream",
       "stream": "stdout",
       "text": [
        "Running K-means 15 times, moving the 3 centroids a max of 7 on each try...\n",
        "\n"
       ]
      },
      {
       "output_type": "stream",
       "stream": "stdout",
       "text": [
        "\n",
        "                                    centroid position how many for each  \\\n",
        "0   [[[-1.39482808952, -1.1997728397, -1.846064307...  [270, 1110, 654]   \n",
        "3   [[[-0.0884398471874, 0.698727354891, 0.6151509...  [1089, 273, 672]   \n",
        "6   [[[-1.50953910147, -1.14404912421, -1.81766760...  [261, 663, 1110]   \n",
        "10  [[[-1.49343224872, -1.19421613242, -1.84356603...  [255, 1116, 663]   \n",
        "1   [[[0.687430525061, -0.732435272991, -0.3587256...  [627, 261, 1146]   \n",
        "\n",
        "           J  \n",
        "0   1.306399  \n",
        "3   1.306719  \n",
        "6   1.306984  \n",
        "10  1.307061  \n",
        "1   1.308202  \n"
       ]
      }
     ],
     "prompt_number": 10
    },
    {
     "cell_type": "code",
     "collapsed": false,
     "input": [
      "df['kmeans_categories'] = km.find_centroid_for_each()\n",
      "df['kmeans_categories'] = df['kmeans_categories'].map({0:'lin_error', 1:'exp_error', 2:'log_error'})\n",
      "df['best_model_categories'] = df.ix[:,'exp_error':'lin_error'].idxmax(axis=1)"
     ],
     "language": "python",
     "metadata": {},
     "outputs": [],
     "prompt_number": 16
    },
    {
     "cell_type": "code",
     "collapsed": false,
     "input": [
      "df = pd.read_pickle('./saved_tables/predicted_curves_for_each_profile.pkl')"
     ],
     "language": "python",
     "metadata": {},
     "outputs": [],
     "prompt_number": 13
    },
    {
     "cell_type": "markdown",
     "metadata": {},
     "source": [
      "There is a discrepancy between what KMeans predicts and which of the three models has the lowest error rate."
     ]
    },
    {
     "cell_type": "code",
     "collapsed": false,
     "input": [
      "discrep = len(df.ix[:,-2:][df.kmeans_categories != df.best_model_categories])/float(len(df))\n",
      "print '{:.1%} of the entries have a discrepancy between what KMeans predicts and which of the 3 models has the lowest error rate'.format(discrep)"
     ],
     "language": "python",
     "metadata": {},
     "outputs": [
      {
       "output_type": "stream",
       "stream": "stdout",
       "text": [
        "92.3% of the entries have a discrepancy between what KMeans predicts and which of the 3 models has the lowest error rate\n"
       ]
      }
     ],
     "prompt_number": 17
    },
    {
     "cell_type": "markdown",
     "metadata": {},
     "source": [
      "To find the count of the number of profiles for which that model was the best:"
     ]
    },
    {
     "cell_type": "code",
     "collapsed": false,
     "input": [
      "df['best_model_categories'].groupby(df['best_model_categories']).count()"
     ],
     "language": "python",
     "metadata": {},
     "outputs": [
      {
       "metadata": {},
       "output_type": "pyout",
       "prompt_number": 18,
       "text": [
        "best_model_categories\n",
        "exp_error                296\n",
        "lin_error                291\n",
        "log_error                 91\n",
        "Name: best_model_categories, dtype: int64"
       ]
      }
     ],
     "prompt_number": 18
    },
    {
     "cell_type": "markdown",
     "metadata": {},
     "source": [
      "##Can we predict which of the funding curves any one profile might have?\n",
      "Let's start by collecting all the attributes, or features, we think might be relevant to whichever funding curve a profile might have.\n",
      "\n",
      "Feature 1: how many other fundable profiles are there at the time of a profile's first donation?\n",
      "Feature 2: amount of first donation\n",
      "Feature 3: funding amount of the profile"
     ]
    },
    {
     "cell_type": "code",
     "collapsed": false,
     "input": [
      "temp_table = pull_SQL_into_Pandas(\n",
      "    \"\"\"\n",
      "    select table2.contributable_id as t2id, count(*) as other_fundable_pts, max(table2.pct_of_first_donation) as pct_of_first_donation, max(table2.funding_amt) as funding_amt\n",
      "    from\n",
      "    (select *\n",
      "    from (select c.contributable_id, max(p.created_at) as posted_date, min(c.created_at) as first_donation, max(p.funded_at) as funded_date, min(c.donation_amount)/max(p.target_amount)::float as pct_of_first_donation, max(p.target_amount) as funding_amt\n",
      "    from contributions as c join profiles as p\n",
      "    on c.contributable_id = p.id\n",
      "    group by c.contributable_id) table1\n",
      "    where posted_date < first_donation /* there are 42 of these */ and funded_date is not null /* 33 of these */) table2\n",
      "    ,\n",
      "    (select *\n",
      "    from (select c.contributable_id, max(p.created_at) as posted_date, min(c.created_at) as first_donation, max(p.funded_at) as funded_date\n",
      "    from contributions as c join profiles as p\n",
      "    on c.contributable_id = p.id\n",
      "    group by c.contributable_id) table3\n",
      "    where posted_date < first_donation /* there are 42 of these */ and funded_date is not null /* 33 of these */) table4\n",
      "\n",
      "    where table2.first_donation < table4.funded_date and table2.first_donation > table4.posted_date\n",
      "    group by table2.contributable_id\n",
      "    order by table2.contributable_id;\"\"\")\n",
      "\n",
      "log_reg_table = pd.merge(df, temp_table, left_on='patient', right_on='t2id').ix[:,['patient', 'other_fundable_pts', 'pct_of_first_donation', 'funding_amt', 'kmeans_categories', 'best_model_categories']].sort('patient')"
     ],
     "language": "python",
     "metadata": {},
     "outputs": [],
     "prompt_number": 19
    },
    {
     "cell_type": "code",
     "collapsed": false,
     "input": [
      "log_reg_table = pd.read_pickle('./saved_tables/log_reg_table.pkl')"
     ],
     "language": "python",
     "metadata": {},
     "outputs": [],
     "prompt_number": 17
    },
    {
     "cell_type": "markdown",
     "metadata": {},
     "source": [
      "##Evaluating the models"
     ]
    },
    {
     "cell_type": "code",
     "collapsed": false,
     "input": [
      "from sklearn import preprocessing\n",
      "\n",
      "X_scaled = preprocessing.scale(log_reg_table.ix[:,'other_fundable_pts':'funding_amt'])\n",
      "y = log_reg_table.kmeans_categories\n",
      "y = log_reg_table.best_model_categories\n",
      "\n",
      "le = preprocessing.LabelEncoder()\n",
      "le.fit(y)\n",
      "\n",
      "y = le.transform(y)\n",
      "\n",
      "from sklearn import linear_model\n",
      "from sklearn import cross_validation\n",
      "from sklearn.cross_validation import cross_val_score\n",
      "\n",
      "logistic = linear_model.LogisticRegression()\n",
      "logistic.fit(X_scaled, y)\n",
      "logistic.score(X_scaled, y)"
     ],
     "language": "python",
     "metadata": {},
     "outputs": [
      {
       "metadata": {},
       "output_type": "pyout",
       "prompt_number": 20,
       "text": [
        "0.471976401179941"
       ]
      }
     ],
     "prompt_number": 20
    },
    {
     "cell_type": "code",
     "collapsed": false,
     "input": [
      "from sklearn.ensemble import RandomForestClassifier\n",
      "\n",
      "clf = RandomForestClassifier()\n",
      "clf.fit(X_scaled, y)\n",
      "clf.score(X_scaled, y)"
     ],
     "language": "python",
     "metadata": {},
     "outputs": [
      {
       "metadata": {},
       "output_type": "pyout",
       "prompt_number": 21,
       "text": [
        "0.87463126843657812"
       ]
      }
     ],
     "prompt_number": 21
    },
    {
     "cell_type": "code",
     "collapsed": false,
     "input": [
      "cross_val_score(clf, X_scaled, y, cv=5)"
     ],
     "language": "python",
     "metadata": {},
     "outputs": [
      {
       "metadata": {},
       "output_type": "pyout",
       "prompt_number": 22,
       "text": [
        "array([ 0.43382353,  0.43382353,  0.40441176,  0.4962963 ,  0.48148148])"
       ]
      }
     ],
     "prompt_number": 22
    },
    {
     "cell_type": "code",
     "collapsed": false,
     "input": [
      "cross_val_score(logistic, X_scaled, y, cv=5)"
     ],
     "language": "python",
     "metadata": {},
     "outputs": [
      {
       "metadata": {},
       "output_type": "pyout",
       "prompt_number": 23,
       "text": [
        "array([ 0.41911765,  0.47794118,  0.5       ,  0.45185185,  0.45185185])"
       ]
      }
     ],
     "prompt_number": 23
    },
    {
     "cell_type": "markdown",
     "metadata": {},
     "source": [
      "# Summary/Conclusion\n",
      "We categorized the funding pattern of each profile into one of 3 patterns.\n",
      "\n",
      "We did K-means clustering to find out, after fitting each profile to these patterns, how many categories the funding patterns fall into. Either 3 or 4 seem like a reasonable conclusion. "
     ]
    },
    {
     "cell_type": "code",
     "collapsed": false,
     "input": [
      "km.plotj(7) # I cld choose 3 or 4 centroids"
     ],
     "language": "python",
     "metadata": {},
     "outputs": [
      {
       "output_type": "stream",
       "stream": "stdout",
       "text": [
        "Calculating for K=2\n",
        "Calculating for K=3"
       ]
      },
      {
       "output_type": "stream",
       "stream": "stdout",
       "text": [
        "\n",
        "Calculating for K=4"
       ]
      },
      {
       "output_type": "stream",
       "stream": "stdout",
       "text": [
        "\n",
        "Calculating for K=5"
       ]
      },
      {
       "output_type": "stream",
       "stream": "stdout",
       "text": [
        "\n",
        "Calculating for K=6"
       ]
      },
      {
       "output_type": "stream",
       "stream": "stdout",
       "text": [
        "\n",
        "Calculating for K=7"
       ]
      },
      {
       "output_type": "stream",
       "stream": "stdout",
       "text": [
        "\n"
       ]
      },
      {
       "metadata": {},
       "output_type": "display_data",
       "png": "[encoded data removed]",
       "text": [
        "<matplotlib.figure.Figure at 0x10911cb10>"
       ]
      }
     ],
     "prompt_number": 26
    },
    {
     "cell_type": "markdown",
     "metadata": {},
     "source": [
      "What is the fourth pattern, if not one of the 3 models we made? Through anecdotal evidence, I think it's a step-wise function, like for this profile's funding below. (Blue is the ground truth, the rest are models.)"
     ]
    },
    {
     "cell_type": "code",
     "collapsed": false,
     "input": [
      "plot_predictor(506)"
     ],
     "language": "python",
     "metadata": {},
     "outputs": [
      {
       "metadata": {},
       "output_type": "display_data",
       "png": "[encoded data removed]",
       "text": [
        "<matplotlib.figure.Figure at 0x1085d1f90>"
       ]
      }
     ],
     "prompt_number": 34
    },
    {
     "cell_type": "markdown",
     "metadata": {},
     "source": [
      "Then, we tried to predict which one of the 3 patterns any given funding would fall into. We made informed guesses that these things were relevant:\n",
      "* amount of first donation\n",
      "* amount to fully fund profile\n",
      "* number of profiles available to fund at the time of the first donation\n",
      "\n",
      "We used Logistic Regression and Random Forests methods to make predictions, and got uniformly bad results, around 50%."
     ]
    },
    {
     "cell_type": "markdown",
     "metadata": {},
     "source": [
      "##Next steps\n",
      "Machine learning depends heavily on the quality of its features. The better the features we can create or extract, the more accurate we can get our algorithm."
     ]
    },
    {
     "cell_type": "markdown",
     "metadata": {},
     "source": [
      "#Appendix"
     ]
    },
    {
     "cell_type": "code",
     "collapsed": false,
     "input": [
      "# Making plot of subset of fundings\n",
      "def get_table(patient_id):\n",
      "\tquery = \"\"\"\n",
      "        select donor_id, patient, cum_amt, hours_after_posted, num\n",
      "        from (\n",
      "        select *, bool_and(hours_after_posted > 0) over (partition by patient) as normal_hours_after_posted, max(cum_amt) over (partition by patient) as max_amt, count(*) over (partition by patient) as \"num\"\n",
      "        from (\n",
      "        select donor_id, patient, sum(donation_amt) over (partition by patient order by time_of_donation) as cum_amt, total_amt, extract(epoch from time_of_donation)/3600 as hours_after_posted, extract(epoch from hrs_to_completion)/3600 as hrs_to_completion\n",
      "        from (\n",
      "        select donor_id, p.id as patient, c.donation_amount * .01 as \"donation_amt\", p.target_amount * .01 as total_amt, c.created_at - p.created_at as \"time_of_donation\", max(c.created_at - p.created_at) over (partition by p.id) as \"hrs_to_completion\"\n",
      "        from contributions as c join profiles as p\n",
      "        on (c.contributable_id = p.id)\n",
      "        where contributable_id = {}) table1) table2) table3\n",
      "        where @(max_amt-total_amt)/total_amt < 0.1 and normal_hours_after_posted = true and hrs_to_completion > 37.84\n",
      "        order by patient, cum_amt;\"\"\".format(patient_id)\n",
      "\n",
      "\tcur.execute(query)\n",
      "\tfig = pd.DataFrame(cur.fetchall(), columns = [desc[0] for desc in cur.description])\n",
      "\tfig.set_index(['hours_after_posted'], inplace=True) # won't work when i have several pts\n",
      "\n",
      "\treturn fig\n",
      "\n",
      "for num in random.sample(xrange(1, 1200), 50):\n",
      "\ttry:\n",
      "\t\tax = get_table(num).cum_amt.astype(int).plot(xlim=(0,1000), ylim=(0,1500))\n",
      "\t\tax.set_ylabel('Funding amount, in US dollars')\n",
      "\t\tax.set_xlabel('Hours after profile was posted')\n",
      "\texcept:\n",
      "\t\tpass\n"
     ],
     "language": "python",
     "metadata": {},
     "outputs": [
      {
       "output_type": "stream",
       "stream": "stderr",
       "text": [
        "/Users/Alex/anaconda/lib/python2.7/site-packages/matplotlib/axes.py:2536: UserWarning: Attempting to set identical left==right results\n",
        "in singular transformations; automatically expanding.\n",
        "left=187.375767512, right=187.375767512\n",
        "  + 'left=%s, right=%s') % (left, right))\n"
       ]
      },
      {
       "metadata": {},
       "output_type": "display_data",
       "png": "[encoded data removed]",
       "text": [
        "<matplotlib.figure.Figure at 0x1085d1f10>"
       ]
      }
     ],
     "prompt_number": 24
    }
   ],
   "metadata": {}
  }
 ]
}