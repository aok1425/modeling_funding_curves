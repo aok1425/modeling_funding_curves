{
 "metadata": {
  "name": "",
  "signature": "sha256:0479c4de919355807280c6846de9018ae3581076a80bd0676e6c4c89799b5951"
 },
 "nbformat": 3,
 "nbformat_minor": 0,
 "worksheets": [
  {
   "cells": [
    {
     "cell_type": "markdown",
     "metadata": {},
     "source": [
      "#Can we predict the funding pattern of a crowdfunding profile?\n",
      "\n",
      "We have data from a Kickstarter-like company. Profiles list different amounts at which to be funded. Nearly all the profiles end up getting funded. All the profiles in this dataset have been funded. Taken from a subset of the data, it looks like this:\n",
      "\n",
      "![subset of funding patterns](images/subset of funding patterns.png)\n",
      "\n",
      "If we can find out various attributes that predict a funding pattern, we can optimize for these various attributes so that profiles can be funded more quickly!"
     ]
    },
    {
     "cell_type": "markdown",
     "metadata": {},
     "source": [
      "So, we want to see if there are different funding patterns amongst the different rates at which profiles get funded. If there are, we can try to predict which pattern a certain profile fits into, and what factors lead to certain patterns."
     ]
    },
    {
     "cell_type": "code",
     "collapsed": false,
     "input": [
      "%matplotlib inline\n",
      "import psycopg2\n",
      "import pandas as pd\n",
      "import numpy as np\n",
      "import matplotlib.pyplot as plt\n",
      "import getpass\n",
      "from numpy import log1p\n",
      "import random\n",
      "\n",
      "pd.options.display.mpl_style = 'default'\n",
      "\n",
      "conn = psycopg2.connect(dbname=\"funding_data\", host=\"localhost\", user=\"aok1425\", password=getpass.getpass())\n",
      "cur = conn.cursor()"
     ],
     "language": "python",
     "metadata": {},
     "outputs": [],
     "prompt_number": 1
    },
    {
     "cell_type": "markdown",
     "metadata": {},
     "source": [
      "##Exploratory data analysis"
     ]
    },
    {
     "cell_type": "markdown",
     "metadata": {},
     "source": [
      "Note: All of the profiles in this analysis have been funded. Most (>95%) of all profiles posted to the site are funded."
     ]
    },
    {
     "cell_type": "code",
     "collapsed": false,
     "input": [
      "def pull_SQL_into_Pandas(query):\n",
      "\t\"\"\"Takes a query, and outputs a DataFrame from it.\"\"\"\n",
      "\tcur.execute(query)\n",
      "\tfig = pd.DataFrame(cur.fetchall(), columns = [desc[0] for desc in cur.description])\n",
      "\n",
      "\treturn fig"
     ],
     "language": "python",
     "metadata": {},
     "outputs": [],
     "prompt_number": 2
    },
    {
     "cell_type": "code",
     "collapsed": false,
     "input": [
      "# I've filtered out those profiles that were funded in one donation\n",
      "query = \"\"\"\n",
      "    select patient, hrs_to_completion, hrs_to_completion - first_donation as \"completion_after_first_donation\", funding_amt\n",
      "    from (select p.id as patient, max(c.created_at - p.created_at) as \"hrs_to_completion\", min(c.created_at - p.created_at) as \"first_donation\", count(c.created_at) as \"num\", (p.target_amount * .01)::int as \"funding_amt\"\n",
      "    from contributions as c join profiles as p\n",
      "    on (c.contributable_id = p.id)\n",
      "    group by patient) table1\n",
      "    where (hrs_to_completion - first_donation) > interval '0 seconds';\"\"\"\n",
      "\n",
      "fig = pull_SQL_into_Pandas(query)"
     ],
     "language": "python",
     "metadata": {},
     "outputs": [],
     "prompt_number": 3
    },
    {
     "cell_type": "markdown",
     "metadata": {},
     "source": [
      "The histogram of how quickly profiles are funded, below, is heavily left-skewed."
     ]
    },
    {
     "cell_type": "code",
     "collapsed": false,
     "input": [
      "ax = fig.hrs_to_completion.apply(lambda x: x / np.timedelta64(1,'h')).hist(bins=50, range=[0,1500])\n",
      "ax.set_xlabel('Hours to fund profile after posting')\n",
      "ax.set_ylabel('Frequency')"
     ],
     "language": "python",
     "metadata": {},
     "outputs": [
      {
       "metadata": {},
       "output_type": "pyout",
       "prompt_number": 4,
       "text": [
        "<matplotlib.text.Text at 0x106550490>"
       ]
      },
      {
       "metadata": {},
       "output_type": "display_data",
       "png": "[encoded data removed]",
       "text": [
        "<matplotlib.figure.Figure at 0x102620ed0>"
       ]
      }
     ],
     "prompt_number": 4
    },
    {
     "cell_type": "markdown",
     "metadata": {},
     "source": [
      "If we look at how quickly profiles are funded after the first donation, instead of when they were posted, we can see that most of the profiles get funded more quickly than we might have thought from the chart above."
     ]
    },
    {
     "cell_type": "code",
     "collapsed": false,
     "input": [
      "ax = fig.completion_after_first_donation.apply(lambda x: x / np.timedelta64(1,'h')).hist(bins=50, range=[0,200])\n",
      "ax.set_xlabel('Hours to fund profile after first donation')\n",
      "ax.set_ylabel('Frequency')"
     ],
     "language": "python",
     "metadata": {},
     "outputs": [
      {
       "metadata": {},
       "output_type": "pyout",
       "prompt_number": 5,
       "text": [
        "<matplotlib.text.Text at 0x1065d4650>"
       ]
      },
      {
       "metadata": {},
       "output_type": "display_data",
       "png": "[encoded data removed]",
       "text": [
        "<matplotlib.figure.Figure at 0x106567190>"
       ]
      }
     ],
     "prompt_number": 5
    },
    {
     "cell_type": "markdown",
     "metadata": {},
     "source": [
      "25% of the profiles get funded within 17 hours of the first donation."
     ]
    },
    {
     "cell_type": "code",
     "collapsed": false,
     "input": [
      "fig.completion_after_first_donation.apply(lambda x: x / np.timedelta64(1,'h')).describe()"
     ],
     "language": "python",
     "metadata": {},
     "outputs": [
      {
       "metadata": {},
       "output_type": "pyout",
       "prompt_number": 6,
       "text": [
        "count     1013.000000\n",
        "mean       365.379089\n",
        "std       1224.636569\n",
        "min          0.002365\n",
        "25%         17.065000\n",
        "50%         56.298889\n",
        "75%        134.088721\n",
        "max      13996.087957\n",
        "dtype: float64"
       ]
      }
     ],
     "prompt_number": 6
    },
    {
     "cell_type": "markdown",
     "metadata": {},
     "source": [
      "But what if some profiles are funded more quickly because their funding amount is less?\n",
      "\n",
      "Let's look into this. What does the distribution of the funding amount look like?"
     ]
    },
    {
     "cell_type": "code",
     "collapsed": false,
     "input": [
      "ax = fig.funding_amt.hist(bins=20, range=[0,2500])\n",
      "ax.set_xlabel('Funding amount, in US dollars')\n",
      "ax.set_ylabel('Frequency')"
     ],
     "language": "python",
     "metadata": {},
     "outputs": [
      {
       "metadata": {},
       "output_type": "pyout",
       "prompt_number": 7,
       "text": [
        "<matplotlib.text.Text at 0x106a84bd0>"
       ]
      },
      {
       "metadata": {},
       "output_type": "display_data",
       "png": "[encoded data removed]",
       "text": [
        "<matplotlib.figure.Figure at 0x106a75a50>"
       ]
      }
     ],
     "prompt_number": 7
    },
    {
     "cell_type": "markdown",
     "metadata": {},
     "source": [
      "Many of the profiles have small (>$500) funding amounts. This could bias our understanding of how quickly profiles are funded, because profiles with smaller funding amounts may be funded more quickly than others.\n",
      "\n",
      "Let's control for their funding amount."
     ]
    },
    {
     "cell_type": "code",
     "collapsed": false,
     "input": [
      "ax = (fig.completion_after_first_donation.apply(lambda x: x / np.timedelta64(1,'h'))*100/fig.funding_amt).hist(bins=50, range=[0,200])\n",
      "ax.set_xlabel('Hours to fund profile after first donation, per $100')\n",
      "ax.set_ylabel('Frequency')"
     ],
     "language": "python",
     "metadata": {},
     "outputs": [
      {
       "metadata": {},
       "output_type": "pyout",
       "prompt_number": 8,
       "text": [
        "<matplotlib.text.Text at 0x106ad8d90>"
       ]
      },
      {
       "metadata": {},
       "output_type": "display_data",
       "png": "[encoded data removed]",
       "text": [
        "<matplotlib.figure.Figure at 0x106acb790>"
       ]
      }
     ],
     "prompt_number": 8
    },
    {
     "cell_type": "markdown",
     "metadata": {},
     "source": [
      "In the original histogram, some profiles took longer to fund because their funding amounts were higher. In this histogram, now that we're looking at the rate of funding, we see that most profiles get funded quickly, moreso than just by looking at the number of hours it takes to fund a profile."
     ]
    },
    {
     "cell_type": "markdown",
     "metadata": {},
     "source": [
      "It took 3 hours for the top 25% of profiles to raise \\$100. The top 50% percent of profiles raised $100 in 9 hours."
     ]
    },
    {
     "cell_type": "code",
     "collapsed": false,
     "input": [
      "(fig.completion_after_first_donation.apply(lambda x: x / np.timedelta64(1,'h'))*100/fig.funding_amt).describe()"
     ],
     "language": "python",
     "metadata": {},
     "outputs": [
      {
       "metadata": {},
       "output_type": "pyout",
       "prompt_number": 9,
       "text": [
        "count    1013.000000\n",
        "mean       47.173583\n",
        "std       177.759792\n",
        "min         0.000788\n",
        "25%         2.975677\n",
        "50%         8.747876\n",
        "75%        20.431236\n",
        "max      2795.191217\n",
        "dtype: float64"
       ]
      }
     ],
     "prompt_number": 9
    },
    {
     "cell_type": "raw",
     "metadata": {},
     "source": [
      "25% of the profiles were funded in 4.6 hours or less.\n",
      "\n",
      "Thus, I only want to find out about the other 75%. [show that the 25% has same characteristics as the 75%?]"
     ]
    },
    {
     "cell_type": "markdown",
     "metadata": {},
     "source": [
      "###Do the profiles that go for <\\$500 and the profiles that go for >\\$500 have different funding rates?\n",
      "\n",
      "Some profiles that get funded really quickly (maybe they only needed one donation, or they had a small funding amount), I want to leave out of the modeling analysis. How to determine the cut-off? Rate? Absolute \\$\\$\\$ amt? If rate, how many high-\\$\\$\\$ amt profiles does it contain?"
     ]
    },
    {
     "cell_type": "markdown",
     "metadata": {},
     "source": [
      "##Pulling the data"
     ]
    },
    {
     "cell_type": "code",
     "collapsed": false,
     "input": [
      "def pull_funding_for_pt(patient_id):    \n",
      "\tquery = \"\"\"\n",
      "\t\tselect donor_id, patient, cum_amt::int, hours_after_posted, num\n",
      "\t\tfrom (\n",
      "\t\tselect *, bool_and(hours_after_posted >= 0) over (partition by patient) as normal_hours_after_posted, max(cum_amt) over (partition by patient) as max_amt, count(*) over (partition by patient) as \"num\"\n",
      "\t\tfrom (\n",
      "\t\tselect donor_id, patient, sum(donation_amt) over (partition by patient order by time_of_donation) as cum_amt, total_amt, extract(epoch from (time_of_donation - min(time_of_donation) over (partition by patient)))/3600 as hours_after_posted, extract(epoch from hrs_to_completion)/3600 as hrs_to_completion\n",
      "\t\tfrom (\n",
      "\t\tselect donor_id, p.id as patient, c.donation_amount * .01 as \"donation_amt\", p.target_amount * .01 as total_amt, c.created_at - p.created_at as \"time_of_donation\", max(c.created_at - p.created_at) over (partition by p.id) as \"hrs_to_completion\"\n",
      "\t\tfrom contributions as c join profiles as p\n",
      "\t\ton (c.contributable_id = p.id)\n",
      "\t\twhere contributable_id = {}) table1) table2) table3\n",
      "\t\twhere @(max_amt-total_amt)/total_amt < 0.1 and normal_hours_after_posted = true\n",
      "\t\torder by patient, cum_amt;\"\"\".format(patient_id)\n",
      "    \n",
      "\treturn pull_SQL_into_Pandas(query)"
     ],
     "language": "python",
     "metadata": {},
     "outputs": [],
     "prompt_number": 10
    },
    {
     "cell_type": "markdown",
     "metadata": {},
     "source": [
      "The function above pulls the funding rate data for a patient:"
     ]
    },
    {
     "cell_type": "code",
     "collapsed": false,
     "input": [
      "pull_funding_for_pt(704)"
     ],
     "language": "python",
     "metadata": {},
     "outputs": [
      {
       "html": [
        "<div style=\"max-height:1000px;max-width:1500px;overflow:auto;\">\n",
        "<table border=\"1\" class=\"dataframe\">\n",
        "  <thead>\n",
        "    <tr style=\"text-align: right;\">\n",
        "      <th></th>\n",
        "      <th>donor_id</th>\n",
        "      <th>patient</th>\n",
        "      <th>cum_amt</th>\n",
        "      <th>hours_after_posted</th>\n",
        "      <th>num</th>\n",
        "    </tr>\n",
        "  </thead>\n",
        "  <tbody>\n",
        "    <tr>\n",
        "      <th>0</th>\n",
        "      <td> 1410</td>\n",
        "      <td> 704</td>\n",
        "      <td>  20</td>\n",
        "      <td>  0.000000</td>\n",
        "      <td> 4</td>\n",
        "    </tr>\n",
        "    <tr>\n",
        "      <th>1</th>\n",
        "      <td> 4092</td>\n",
        "      <td> 704</td>\n",
        "      <td>  26</td>\n",
        "      <td>  2.498893</td>\n",
        "      <td> 4</td>\n",
        "    </tr>\n",
        "    <tr>\n",
        "      <th>2</th>\n",
        "      <td> 4096</td>\n",
        "      <td> 704</td>\n",
        "      <td>  31</td>\n",
        "      <td> 23.545507</td>\n",
        "      <td> 4</td>\n",
        "    </tr>\n",
        "    <tr>\n",
        "      <th>3</th>\n",
        "      <td> 4097</td>\n",
        "      <td> 704</td>\n",
        "      <td> 300</td>\n",
        "      <td> 24.693322</td>\n",
        "      <td> 4</td>\n",
        "    </tr>\n",
        "  </tbody>\n",
        "</table>\n",
        "</div>"
       ],
       "metadata": {},
       "output_type": "pyout",
       "prompt_number": 11,
       "text": [
        "   donor_id  patient  cum_amt  hours_after_posted  num\n",
        "0      1410      704       20            0.000000    4\n",
        "1      4092      704       26            2.498893    4\n",
        "2      4096      704       31           23.545507    4\n",
        "3      4097      704      300           24.693322    4"
       ]
      }
     ],
     "prompt_number": 11
    },
    {
     "cell_type": "code",
     "collapsed": false,
     "input": [
      "ax = pull_funding_for_pt(704).plot(x='hours_after_posted', y='cum_amt')\n",
      "ax.set_ylabel('Funding amt, in US dollars')\n",
      "ax.set_xlabel('Hours after first donation')"
     ],
     "language": "python",
     "metadata": {},
     "outputs": [
      {
       "metadata": {},
       "output_type": "pyout",
       "prompt_number": 12,
       "text": [
        "<matplotlib.text.Text at 0x106f19e50>"
       ]
      },
      {
       "metadata": {},
       "output_type": "display_data",
       "png": "[encoded data removed]",
       "text": [
        "<matplotlib.figure.Figure at 0x106f5b610>"
       ]
      }
     ],
     "prompt_number": 12
    },
    {
     "cell_type": "markdown",
     "metadata": {},
     "source": [
      "I've filtered out certain data if it meets the following characteristics:\n",
      "- adding up all the donations results in a figure different from the total amount, by at least 10%\n",
      "- some donations were made before the profile was posted online\n",
      "- I'm ignoring those profiles that were funded really quickly. Later on, I will try to find differences between the quickly-funded profiles and the others. Anecdotally, the main factor seems to be funding amount. "
     ]
    },
    {
     "cell_type": "markdown",
     "metadata": {},
     "source": [
      "##Applying the models for each profile\n",
      "For each profile, I will apply 3 different models: linear, logarithmic, and exponential. Then, I will find the error for each model for each profile."
     ]
    },
    {
     "cell_type": "code",
     "collapsed": false,
     "input": [
      "def predict_exp(x, y):\n",
      "\t\"\"\"Input a DataFrame and get a Series of predicted values.\"\"\"\n",
      "\tydiff = y.tail(1).values[0] - y.head(1).values[0]\n",
      "\txdiff = x.tail(1).values[0] - x.head(1).values[0]\n",
      "\n",
      "\tz = ydiff**(1/xdiff)\n",
      "\treturn z**x + y.head(1).values[0]\n",
      "\n",
      "def predict_lin(x, y):\n",
      "\tm = (y.tail(1).values[0] - y.head(1).values[0])/(x.tail(1).values[0] - x.head(1).values[0])\n",
      "\n",
      "\treturn m*x + y.head(1).values[0]\n",
      "\n",
      "def predict_log_e(x, y):\n",
      "\tydiff = y.tail(1).values[0] - y.head(1).values[0]\n",
      "\txdiff = x.tail(1).values[0] - x.head(1).values[0]\n",
      "\tb = ydiff / (log1p(xdiff))\n",
      "\n",
      "\treturn b*log1p(x) + y.head(1).values[0]\n",
      "\n",
      "def plot_predictor(patient_id):\n",
      "\t\"\"\"Makes graph showing the 3 models and the ground truth for a patient.\"\"\"\n",
      "\tfig = pull_funding_for_pt(patient_id)\n",
      "\tfig['lin_pred'] = predict_lin(fig.hours_after_posted, fig.cum_amt)\n",
      "\tfig['exp_pred'] = predict_exp(fig.hours_after_posted, fig.cum_amt)\n",
      "\tfig['log_pred'] = predict_log_e(fig.hours_after_posted, fig.cum_amt)\n",
      "\n",
      "\tax = fig.plot(x='hours_after_posted', y='cum_amt')\n",
      "\tax = fig.plot(x='hours_after_posted', y='lin_pred')\n",
      "\tax = fig.plot(x='hours_after_posted', y='exp_pred')\n",
      "\tax = fig.plot(x='hours_after_posted', y='log_pred')\n",
      "\tax.set_ylabel('Funding amt, in US dollars')\n",
      "\tax.set_xlabel('Hours after first donation')"
     ],
     "language": "python",
     "metadata": {},
     "outputs": [],
     "prompt_number": 13
    },
    {
     "cell_type": "markdown",
     "metadata": {},
     "source": [
      "This is an example of the models fitted to a funding curve. The blue line is the ground truth."
     ]
    },
    {
     "cell_type": "code",
     "collapsed": false,
     "input": [
      "plot_predictor(506)"
     ],
     "language": "python",
     "metadata": {},
     "outputs": [
      {
       "metadata": {},
       "output_type": "display_data",
       "png": "[encoded data removed]",
       "text": [
        "<matplotlib.figure.Figure at 0x1085d1f90>"
       ]
      }
     ],
     "prompt_number": 34
    },
    {
     "cell_type": "markdown",
     "metadata": {},
     "source": [
      "##Evaluating the models for each profile"
     ]
    },
    {
     "cell_type": "code",
     "collapsed": false,
     "input": [
      "query = \"\"\"\n",
      "    select patient, count\n",
      "    from(\n",
      "    select p.id as patient, count(*) as count, @((sum(c.donation_amount)-p.target_amount::float)/p.target_amount) as diff_pct, p.target_amount * .01 as total_amt, extract(epoch from min(c.created_at - p.created_at))/3600 as \"min_time_of_donation\", extract(epoch from max(c.created_at - p.created_at))/3600 as \"hrs_to_completion\"\n",
      "    from contributions as c join profiles as p\n",
      "    on (c.contributable_id = p.id)\n",
      "    group by p.id\n",
      "    order by diff_pct desc) table1\n",
      "    where diff_pct < 0.1 and min_time_of_donation > 0 and hrs_to_completion > 37.84 and count > 3;\"\"\"\n",
      "\n",
      "from sklearn.metrics import explained_variance_score\n",
      "\n",
      "def calculate_model_errors(patient_id):\n",
      "    fig = pull_funding_for_pt(patient_id)\n",
      "    x = fig.hours_after_posted\n",
      "    y = fig.cum_amt\n",
      "    \n",
      "    exp = predict_exp(x,y)\n",
      "    lin = predict_lin(x,y)\n",
      "    log = predict_log_e(x,y)\n",
      "    \n",
      "    return explained_variance_score(y, exp), explained_variance_score(y, log), explained_variance_score(y, lin)\n",
      "\n",
      "df = pull_SQL_into_Pandas(query)\n",
      "df['exp_error'], df['log_error'], df['lin_error'] = zip(*df.patient.map(calculate_model_errors))"
     ],
     "language": "python",
     "metadata": {},
     "outputs": [],
     "prompt_number": 14
    },
    {
     "cell_type": "code",
     "collapsed": false,
     "input": [
      "df.tail()"
     ],
     "language": "python",
     "metadata": {},
     "outputs": [
      {
       "html": [
        "<div style=\"max-height:1000px;max-width:1500px;overflow:auto;\">\n",
        "<table border=\"1\" class=\"dataframe\">\n",
        "  <thead>\n",
        "    <tr style=\"text-align: right;\">\n",
        "      <th></th>\n",
        "      <th>patient</th>\n",
        "      <th>count</th>\n",
        "      <th>exp_error</th>\n",
        "      <th>log_error</th>\n",
        "      <th>lin_error</th>\n",
        "    </tr>\n",
        "  </thead>\n",
        "  <tbody>\n",
        "    <tr>\n",
        "      <th>673</th>\n",
        "      <td> 1180</td>\n",
        "      <td>  8</td>\n",
        "      <td> 0.903552</td>\n",
        "      <td> 0.461442</td>\n",
        "      <td> 0.872866</td>\n",
        "    </tr>\n",
        "    <tr>\n",
        "      <th>674</th>\n",
        "      <td>  915</td>\n",
        "      <td> 14</td>\n",
        "      <td> 0.894019</td>\n",
        "      <td> 0.419293</td>\n",
        "      <td> 0.775915</td>\n",
        "    </tr>\n",
        "    <tr>\n",
        "      <th>675</th>\n",
        "      <td>  547</td>\n",
        "      <td>  7</td>\n",
        "      <td> 0.600925</td>\n",
        "      <td> 0.117095</td>\n",
        "      <td> 0.204800</td>\n",
        "    </tr>\n",
        "    <tr>\n",
        "      <th>676</th>\n",
        "      <td>  923</td>\n",
        "      <td> 19</td>\n",
        "      <td> 0.495106</td>\n",
        "      <td> 0.503763</td>\n",
        "      <td> 0.842688</td>\n",
        "    </tr>\n",
        "    <tr>\n",
        "      <th>677</th>\n",
        "      <td>  578</td>\n",
        "      <td>  9</td>\n",
        "      <td> 0.412697</td>\n",
        "      <td> 0.736984</td>\n",
        "      <td> 0.665104</td>\n",
        "    </tr>\n",
        "  </tbody>\n",
        "</table>\n",
        "</div>"
       ],
       "metadata": {},
       "output_type": "pyout",
       "prompt_number": 17,
       "text": [
        "     patient  count  exp_error  log_error  lin_error\n",
        "673     1180      8   0.903552   0.461442   0.872866\n",
        "674      915     14   0.894019   0.419293   0.775915\n",
        "675      547      7   0.600925   0.117095   0.204800\n",
        "676      923     19   0.495106   0.503763   0.842688\n",
        "677      578      9   0.412697   0.736984   0.665104"
       ]
      }
     ],
     "prompt_number": 17
    },
    {
     "cell_type": "code",
     "collapsed": false,
     "input": [
      "# The saved table, in order to reproduce the analysis\n",
      "df = pd.read_pickle('./saved_tables/error_table.pkl')"
     ],
     "language": "python",
     "metadata": {},
     "outputs": [
      {
       "html": [
        "<div style=\"max-height:1000px;max-width:1500px;overflow:auto;\">\n",
        "<table border=\"1\" class=\"dataframe\">\n",
        "  <thead>\n",
        "    <tr style=\"text-align: right;\">\n",
        "      <th></th>\n",
        "      <th>patient</th>\n",
        "      <th>count</th>\n",
        "      <th>exp_error</th>\n",
        "      <th>log_error</th>\n",
        "      <th>lin_error</th>\n",
        "    </tr>\n",
        "  </thead>\n",
        "  <tbody>\n",
        "    <tr>\n",
        "      <th>673</th>\n",
        "      <td> 1180</td>\n",
        "      <td>  8</td>\n",
        "      <td> 0.903552</td>\n",
        "      <td> 0.461442</td>\n",
        "      <td> 0.872866</td>\n",
        "    </tr>\n",
        "    <tr>\n",
        "      <th>674</th>\n",
        "      <td>  915</td>\n",
        "      <td> 14</td>\n",
        "      <td> 0.894019</td>\n",
        "      <td> 0.419293</td>\n",
        "      <td> 0.775915</td>\n",
        "    </tr>\n",
        "    <tr>\n",
        "      <th>675</th>\n",
        "      <td>  547</td>\n",
        "      <td>  7</td>\n",
        "      <td> 0.600925</td>\n",
        "      <td> 0.117095</td>\n",
        "      <td> 0.204800</td>\n",
        "    </tr>\n",
        "    <tr>\n",
        "      <th>676</th>\n",
        "      <td>  923</td>\n",
        "      <td> 19</td>\n",
        "      <td> 0.495106</td>\n",
        "      <td> 0.503763</td>\n",
        "      <td> 0.842688</td>\n",
        "    </tr>\n",
        "    <tr>\n",
        "      <th>677</th>\n",
        "      <td>  578</td>\n",
        "      <td>  9</td>\n",
        "      <td> 0.412697</td>\n",
        "      <td> 0.736984</td>\n",
        "      <td> 0.665104</td>\n",
        "    </tr>\n",
        "  </tbody>\n",
        "</table>\n",
        "</div>"
       ],
       "metadata": {},
       "output_type": "pyout",
       "prompt_number": 18,
       "text": [
        "     patient  count  exp_error  log_error  lin_error\n",
        "673     1180      8   0.903552   0.461442   0.872866\n",
        "674      915     14   0.894019   0.419293   0.775915\n",
        "675      547      7   0.600925   0.117095   0.204800\n",
        "676      923     19   0.495106   0.503763   0.842688\n",
        "677      578      9   0.412697   0.736984   0.665104"
       ]
      }
     ],
     "prompt_number": 18
    },
    {
     "cell_type": "markdown",
     "metadata": {},
     "source": [
      "##Using K-Means clustering to try to find out which groups a profile best fits into"
     ]
    },
    {
     "cell_type": "code",
     "collapsed": false,
     "input": [
      "import kmeans\n",
      "km = kmeans.KMeans(max_iters=50, tries=30)"
     ],
     "language": "python",
     "metadata": {},
     "outputs": [],
     "prompt_number": 20
    },
    {
     "cell_type": "code",
     "collapsed": false,
     "input": [
      "from sklearn import preprocessing\n",
      "df_scaled = preprocessing.scale(df.ix[:,'exp_error':'lin_error']) #standardizing the data\n",
      "\n",
      "km.fit(df_scaled, clusters=3)"
     ],
     "language": "python",
     "metadata": {},
     "outputs": [
      {
       "output_type": "stream",
       "stream": "stdout",
       "text": [
        "Running K-means 30 times, moving the 3 centroids a max of 50 times on each try...\n",
        "           J how many for each  \\\n",
        "12  1.306399  [270, 1110, 654]   \n",
        "23  1.306399  [654, 270, 1110]   \n",
        "15  1.306982  [657, 261, 1116]   \n",
        "7   1.306982  [261, 657, 1116]   \n",
        "16  1.306982  [1116, 261, 657]   \n",
        "\n",
        "                                    centroid position  \n",
        "12  [[[-1.39482808952, -1.1997728397, -1.846064307...  \n",
        "23  [[[0.704388856926, -0.668925845673, -0.2758180...  \n",
        "15  [[[0.691286567587, -0.697119487505, -0.3266305...  \n",
        "7   [[[-1.50953910147, -1.14404912421, -1.81766760...  \n",
        "16  [[[-0.0539297217046, 0.677960864435, 0.6173902...  "
       ]
      },
      {
       "output_type": "stream",
       "stream": "stdout",
       "text": [
        "\n"
       ]
      }
     ],
     "prompt_number": 21
    },
    {
     "cell_type": "markdown",
     "metadata": {},
     "source": [
      "Plotting the cost, or error, J, of having `n` number of groups, it seems like the data doesn't strongly fit into any particular number of groups."
     ]
    },
    {
     "cell_type": "code",
     "collapsed": false,
     "input": [
      "km.plotj(7) # I cld choose 3 or 4 centroids"
     ],
     "language": "python",
     "metadata": {},
     "outputs": [
      {
       "output_type": "stream",
       "stream": "stdout",
       "text": [
        "Calculating for K=2, "
       ]
      },
      {
       "output_type": "stream",
       "stream": "stdout",
       "text": [
        "K=3, "
       ]
      },
      {
       "output_type": "stream",
       "stream": "stdout",
       "text": [
        "K=4, "
       ]
      },
      {
       "output_type": "stream",
       "stream": "stdout",
       "text": [
        "K=5, "
       ]
      },
      {
       "output_type": "stream",
       "stream": "stdout",
       "text": [
        "K=6, "
       ]
      },
      {
       "output_type": "stream",
       "stream": "stdout",
       "text": [
        "K=7\n"
       ]
      },
      {
       "metadata": {},
       "output_type": "display_data",
       "png": "[encoded data removed]",
       "text": [
        "<matplotlib.figure.Figure at 0x106ac7410>"
       ]
      }
     ],
     "prompt_number": 25
    },
    {
     "cell_type": "code",
     "collapsed": false,
     "input": [
      "km.fit(df_scaled, clusters=3) # I'm doing this again so that I can do km.find_centroid_for_each() for 3 groups"
     ],
     "language": "python",
     "metadata": {},
     "outputs": [
      {
       "output_type": "stream",
       "stream": "stdout",
       "text": [
        "Running K-means 30 times, moving the 3 centroids a max of 50 times on each try...\n",
        "           J how many for each  \\\n",
        "24  1.306391  [1113, 270, 651]   \n",
        "7   1.306399  [1110, 654, 270]   \n",
        "14  1.306982  [1116, 261, 657]   \n",
        "26  1.306982  [657, 261, 1116]   \n",
        "18  1.306982  [261, 657, 1116]   \n",
        "\n",
        "                                    centroid position  \n",
        "24  [[[-0.0738268430269, 0.683738294695, 0.6117089...  \n",
        "7   [[[-0.0757357912241, 0.685960513324, 0.6115516...  \n",
        "14  [[[-0.0539297217046, 0.677960864435, 0.6173902...  \n",
        "26  [[[0.691286567587, -0.697119487505, -0.3266305...  \n",
        "18  [[[-1.50953910147, -1.14404912421, -1.81766760...  "
       ]
      },
      {
       "output_type": "stream",
       "stream": "stdout",
       "text": [
        "\n"
       ]
      }
     ],
     "prompt_number": 26
    },
    {
     "cell_type": "code",
     "collapsed": false,
     "input": [
      "df['kmeans_categories'] = km.find_centroid_for_each()\n",
      "df['kmeans_categories'] = df['kmeans_categories'].map({0:'lin_error', 1:'exp_error', 2:'log_error'})\n",
      "df['best_model_categories'] = df.ix[:,'exp_error':'lin_error'].idxmax(axis=1)\n",
      "\n",
      "#note: better off loading the pickle here bc the numbers might not map correctly to the label, as I'm doing random K-Means each time\n",
      "#for future work, I could use Naive Bayes to have the number map automatically to the label"
     ],
     "language": "python",
     "metadata": {},
     "outputs": [],
     "prompt_number": 35
    },
    {
     "cell_type": "code",
     "collapsed": false,
     "input": [
      "df = pd.read_pickle('./saved_tables/predicted_curves_for_each_profile.pkl')"
     ],
     "language": "python",
     "metadata": {},
     "outputs": [],
     "prompt_number": 36
    },
    {
     "cell_type": "markdown",
     "metadata": {},
     "source": [
      "There is a discrepancy between what KMeans predicts and which of the three models has the lowest error rate."
     ]
    },
    {
     "cell_type": "code",
     "collapsed": false,
     "input": [
      "discrep = len(df.ix[:,-2:][df.kmeans_categories != df.best_model_categories])/float(len(df))\n",
      "print '{:.1%} of the entries have a discrepancy between what K-Means predicts and which of the 3 models has the lowest error rate.'.format(discrep)"
     ],
     "language": "python",
     "metadata": {},
     "outputs": [
      {
       "output_type": "stream",
       "stream": "stdout",
       "text": [
        "28.3% of the entries have a discrepancy between what K-Means predicts and which of the 3 models has the lowest error rate.\n"
       ]
      }
     ],
     "prompt_number": 34
    },
    {
     "cell_type": "markdown",
     "metadata": {},
     "source": [
      "To find the count of the number of profiles for which that model was the best:"
     ]
    },
    {
     "cell_type": "code",
     "collapsed": false,
     "input": [
      "df['best_model_categories'].groupby(df['best_model_categories']).count()"
     ],
     "language": "python",
     "metadata": {},
     "outputs": [
      {
       "metadata": {},
       "output_type": "pyout",
       "prompt_number": 18,
       "text": [
        "best_model_categories\n",
        "exp_error                296\n",
        "lin_error                291\n",
        "log_error                 91\n",
        "Name: best_model_categories, dtype: int64"
       ]
      }
     ],
     "prompt_number": 18
    },
    {
     "cell_type": "markdown",
     "metadata": {},
     "source": [
      "Using K-Means clustering, I was hoping to gather further evidence that the funding curves can be cleanly categorized as being from one of 3 groups, after fitting each funding curve to a model and calculating the error for each profile.\n",
      "\n",
      "But after running the analysis, the funding curves don't cleanly fit into any `n` number of groups.\n",
      "\n",
      "After choosing `n=3`, I checked the discrepancy rate between the group K-Means predicted a profile would be in, and whichever model had the lowest error rate. There was a 28.3% discrepancy rate, enough to cause me to forget about K-Means as a way to find out which model performed the best. Instead, I will just say that the model that performed the best is the one with the lowest error rate."
     ]
    },
    {
     "cell_type": "markdown",
     "metadata": {},
     "source": [
      "##Can we predict which of the funding curves any one profile might have?\n",
      "Let's start by collecting all the attributes, or features, we think might be relevant to whichever funding curve a profile might have.\n",
      "\n",
      "* Feature 1: how many other fundable profiles are there at the time of a profile's first donation?\n",
      "* Feature 2: amount of first donation\n",
      "* Feature 3: funding amount of the profile"
     ]
    },
    {
     "cell_type": "code",
     "collapsed": false,
     "input": [
      "temp_table = pull_SQL_into_Pandas(\n",
      "    \"\"\"\n",
      "    select table2.contributable_id as t2id, count(*) as other_fundable_pts, max(table2.pct_of_first_donation) as pct_of_first_donation, max(table2.funding_amt) as funding_amt\n",
      "    from\n",
      "    (select *\n",
      "    from (select c.contributable_id, max(p.created_at) as posted_date, min(c.created_at) as first_donation, max(p.funded_at) as funded_date, min(c.donation_amount)/max(p.target_amount)::float as pct_of_first_donation, max(p.target_amount) as funding_amt\n",
      "    from contributions as c join profiles as p\n",
      "    on c.contributable_id = p.id\n",
      "    group by c.contributable_id) table1\n",
      "    where posted_date < first_donation /* there are 42 of these */ and funded_date is not null /* 33 of these */) table2\n",
      "    ,\n",
      "    (select *\n",
      "    from (select c.contributable_id, max(p.created_at) as posted_date, min(c.created_at) as first_donation, max(p.funded_at) as funded_date\n",
      "    from contributions as c join profiles as p\n",
      "    on c.contributable_id = p.id\n",
      "    group by c.contributable_id) table3\n",
      "    where posted_date < first_donation /* there are 42 of these */ and funded_date is not null /* 33 of these */) table4\n",
      "\n",
      "    where table2.first_donation < table4.funded_date and table2.first_donation > table4.posted_date\n",
      "    group by table2.contributable_id\n",
      "    order by table2.contributable_id;\"\"\")\n",
      "\n",
      "log_reg_table = pd.merge(df, temp_table, left_on='patient', right_on='t2id').ix[:,['patient', 'other_fundable_pts', 'pct_of_first_donation', 'funding_amt', 'kmeans_categories', 'best_model_categories']].sort('patient')"
     ],
     "language": "python",
     "metadata": {},
     "outputs": [],
     "prompt_number": 38
    },
    {
     "cell_type": "code",
     "collapsed": false,
     "input": [
      "log_reg_table = pd.read_pickle('./saved_tables/log_reg_table.pkl')"
     ],
     "language": "python",
     "metadata": {},
     "outputs": [],
     "prompt_number": 39
    },
    {
     "cell_type": "markdown",
     "metadata": {},
     "source": [
      "##Evaluating the models"
     ]
    },
    {
     "cell_type": "code",
     "collapsed": false,
     "input": [
      "from sklearn import preprocessing\n",
      "\n",
      "X_scaled = preprocessing.scale(log_reg_table.ix[:,'other_fundable_pts':'funding_amt'])\n",
      "y = log_reg_table.kmeans_categories\n",
      "y = log_reg_table.best_model_categories\n",
      "\n",
      "le = preprocessing.LabelEncoder()\n",
      "le.fit(y)\n",
      "\n",
      "y = le.transform(y)\n",
      "\n",
      "from sklearn import linear_model\n",
      "from sklearn import cross_validation\n",
      "from sklearn.cross_validation import cross_val_score\n",
      "\n",
      "logistic = linear_model.LogisticRegression()"
     ],
     "language": "python",
     "metadata": {},
     "outputs": [],
     "prompt_number": 40
    },
    {
     "cell_type": "code",
     "collapsed": false,
     "input": [
      "from sklearn.ensemble import RandomForestClassifier\n",
      "\n",
      "clf = RandomForestClassifier()"
     ],
     "language": "python",
     "metadata": {},
     "outputs": [],
     "prompt_number": 41
    },
    {
     "cell_type": "code",
     "collapsed": false,
     "input": [
      "cross_val_score(clf, X_scaled, y, cv=3)"
     ],
     "language": "python",
     "metadata": {},
     "outputs": [
      {
       "metadata": {},
       "output_type": "pyout",
       "prompt_number": 45,
       "text": [
        "array([ 0.55752212,  0.46017699,  0.46460177])"
       ]
      }
     ],
     "prompt_number": 45
    },
    {
     "cell_type": "code",
     "collapsed": false,
     "input": [
      "cross_val_score(logistic, X_scaled, y, cv=3)"
     ],
     "language": "python",
     "metadata": {},
     "outputs": [
      {
       "metadata": {},
       "output_type": "pyout",
       "prompt_number": 44,
       "text": [
        "array([ 0.48672566,  0.45132743,  0.52212389])"
       ]
      }
     ],
     "prompt_number": 44
    },
    {
     "cell_type": "markdown",
     "metadata": {},
     "source": [
      "# Summary/Conclusion\n",
      "We categorized the funding pattern of each profile into one of 3 patterns.\n",
      "\n",
      "We did K-means clustering to find out, after fitting each profile to these patterns, how many categories the funding patterns fall into."
     ]
    },
    {
     "cell_type": "markdown",
     "metadata": {},
     "source": [
      "Then, we tried to predict which one of the 3 patterns any given funding curve would fall into. We made informed guesses that these things were relevant:\n",
      "* amount of first donation\n",
      "* amount to fully fund profile\n",
      "* number of profiles available to fund at the time of the first donation\n",
      "\n",
      "We used Logistic Regression and Random Forests methods to make predictions, and got uniformly bad results, around 50%."
     ]
    },
    {
     "cell_type": "markdown",
     "metadata": {},
     "source": [
      "##Next steps\n",
      "Machine learning depends heavily on the quality of its features. We can probably create or extract additional features, which would increase the predictive power of our algorithms.\n",
      "\n",
      "I came up with the 3 different funding patterns simply based on anecdotal viewing. Alternatively, we could make a probabilistic model to determine both the 'appropriate' number of patterns, and what these patterns would be (instead of logarithmic, exponential, etc.).\n",
      "\n",
      "Once we are are able to increase our algorithms' predictive abilities, that would tell us which model a funding curve fits best into. The next step is to model the coefficients of each profile for each pattern. If we can do that, then we will have predicted how long it takes for a profile to be funded after the initial donation.\n",
      "\n",
      "The last step is to model when the initial donation occurs, then we can predict how long it takes for a profile to be funded after it is posted to the website."
     ]
    },
    {
     "cell_type": "markdown",
     "metadata": {},
     "source": [
      "#Appendix"
     ]
    },
    {
     "cell_type": "code",
     "collapsed": false,
     "input": [
      "# initial graph\n",
      "# Making plot of subset of fundings\n",
      "def get_table(patient_id):\n",
      "\tquery = \"\"\"\n",
      "        select donor_id, patient, cum_amt, hours_after_posted, num\n",
      "        from (\n",
      "        select *, bool_and(hours_after_posted > 0) over (partition by patient) as normal_hours_after_posted, max(cum_amt) over (partition by patient) as max_amt, count(*) over (partition by patient) as \"num\"\n",
      "        from (\n",
      "        select donor_id, patient, sum(donation_amt) over (partition by patient order by time_of_donation) as cum_amt, total_amt, extract(epoch from time_of_donation)/3600 as hours_after_posted, extract(epoch from hrs_to_completion)/3600 as hrs_to_completion\n",
      "        from (\n",
      "        select donor_id, p.id as patient, c.donation_amount * .01 as \"donation_amt\", p.target_amount * .01 as total_amt, c.created_at - p.created_at as \"time_of_donation\", max(c.created_at - p.created_at) over (partition by p.id) as \"hrs_to_completion\"\n",
      "        from contributions as c join profiles as p\n",
      "        on (c.contributable_id = p.id)\n",
      "        where contributable_id = {}) table1) table2) table3\n",
      "        where @(max_amt-total_amt)/total_amt < 0.1 and normal_hours_after_posted = true and hrs_to_completion > 37.84\n",
      "        order by patient, cum_amt;\"\"\".format(patient_id)\n",
      "\n",
      "\tcur.execute(query)\n",
      "\tfig = pd.DataFrame(cur.fetchall(), columns = [desc[0] for desc in cur.description])\n",
      "\tfig.set_index(['hours_after_posted'], inplace=True) # won't work when i have several pts\n",
      "\n",
      "\treturn fig\n",
      "\n",
      "for num in random.sample(xrange(1, 1200), 50):\n",
      "\ttry:\n",
      "\t\tax = get_table(num).cum_amt.astype(int).plot(xlim=(0,1000), ylim=(0,1500))\n",
      "\t\tax.set_ylabel('Funding amount, in US dollars')\n",
      "\t\tax.set_xlabel('Hours after profile was posted')\n",
      "\texcept:\n",
      "\t\tpass\n"
     ],
     "language": "python",
     "metadata": {},
     "outputs": [
      {
       "output_type": "stream",
       "stream": "stderr",
       "text": [
        "/Users/Alex/anaconda/lib/python2.7/site-packages/matplotlib/axes.py:2536: UserWarning: Attempting to set identical left==right results\n",
        "in singular transformations; automatically expanding.\n",
        "left=187.375767512, right=187.375767512\n",
        "  + 'left=%s, right=%s') % (left, right))\n"
       ]
      },
      {
       "metadata": {},
       "output_type": "display_data",
       "png": "[encoded data removed]",
       "text": [
        "<matplotlib.figure.Figure at 0x1085d1f10>"
       ]
      }
     ],
     "prompt_number": 24
    }
   ],
   "metadata": {}
  }
 ]
}